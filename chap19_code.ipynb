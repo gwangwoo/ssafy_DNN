{
 "cells": [
  {
   "cell_type": "code",
   "execution_count": 50,
   "metadata": {},
   "outputs": [
    {
     "name": "stdout",
     "output_type": "stream",
     "text": [
      "<tf.Variable 'Variable_8:0' shape=(2, 2) dtype=int32>\n"
     ]
    }
   ],
   "source": [
    "import tensorflow.compat.v1 as tf\n",
    "import numpy as np\n",
    "b = tf.Variable([[1,2],[3,4]])\n",
    "tf.compat.v1.disable_eager_execution()\n",
    "print(b)"
   ]
  },
  {
   "cell_type": "code",
   "execution_count": 49,
   "metadata": {
    "scrolled": false
   },
   "outputs": [
    {
     "name": "stdout",
     "output_type": "stream",
     "text": [
      "(2, 2)\n",
      "(2, 2)\n",
      "[[23 44]\n",
      " [49 92]]\n"
     ]
    }
   ],
   "source": [
    "a = tf.constant([[3,4],[10,20]])\n",
    "print(a.shape)\n",
    "print(b.shape)\n",
    "sum = tf.matmul(b,a)\n",
    "sess = tf.Session()\n",
    "sess.run(tf.global_variables_initializer())\n",
    "print(sess.run(sum))\n"
   ]
  },
  {
   "cell_type": "code",
   "execution_count": 51,
   "metadata": {
    "scrolled": true
   },
   "outputs": [
    {
     "name": "stdout",
     "output_type": "stream",
     "text": [
      "360\n"
     ]
    }
   ],
   "source": [
    "# 상수를 정의하기\n",
    "a = tf.constant(100)\n",
    "b = tf.constant(120)\n",
    "c = tf.constant(140)\n",
    "\n",
    "# 변수를 정의하기\n",
    "\n",
    "v = tf.Variable(0)\n",
    "\n",
    "# 데이터 플로우 그래프 정의하기\n",
    "\n",
    "calc_op = a + b + c\n",
    "\n",
    "assign_op = tf.assign(v, calc_op)\n",
    "\n",
    "\n",
    "\n",
    "sess = tf.Session()\n",
    "\n",
    "sess.run(assign_op)\n",
    "\n",
    "print(sess.run(v))\n"
   ]
  },
  {
   "cell_type": "code",
   "execution_count": null,
   "metadata": {},
   "outputs": [],
   "source": []
  }
 ],
 "metadata": {
  "kernelspec": {
   "display_name": "Python 3",
   "language": "python",
   "name": "python3"
  },
  "language_info": {
   "codemirror_mode": {
    "name": "ipython",
    "version": 3
   },
   "file_extension": ".py",
   "mimetype": "text/x-python",
   "name": "python",
   "nbconvert_exporter": "python",
   "pygments_lexer": "ipython3",
   "version": "3.7.4"
  }
 },
 "nbformat": 4,
 "nbformat_minor": 2
}
