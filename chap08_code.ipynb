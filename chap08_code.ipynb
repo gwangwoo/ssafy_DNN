{
 "cells": [
  {
   "cell_type": "code",
   "execution_count": 7,
   "metadata": {},
   "outputs": [
    {
     "name": "stdout",
     "output_type": "stream",
     "text": [
      "(4,)\n",
      "1\n",
      "[[1 2]\n",
      " [3 4]\n",
      " [5 6]]\n",
      "2\n",
      "(3, 2)\n"
     ]
    }
   ],
   "source": [
    "import numpy as np\n",
    "\n",
    "def ReLU(x):\n",
    "    return np.maximum(0,x) # maximum 두 입력중에 큰 값을 반환하는 함수\n",
    "\n",
    "\n",
    "# 다차원 계산을 리뷰\n",
    "\n",
    "A = np.array([1,2,3,4])\n",
    "\n",
    "\n",
    "print(A.shape) # 리스트의 형상 --> 튜플\n",
    "\n",
    "print(np.ndim(A)) # 차원을 알려주는 함수\n",
    "\n",
    "\n",
    "B = np.array([[1,2],[3,4],[5,6]])\n",
    "print(B)\n",
    "print(np.ndim(B))\n",
    "print(B.shape)"
   ]
  },
  {
   "cell_type": "code",
   "execution_count": null,
   "metadata": {},
   "outputs": [],
   "source": []
  }
 ],
 "metadata": {
  "kernelspec": {
   "display_name": "Python 3",
   "language": "python",
   "name": "python3"
  },
  "language_info": {
   "codemirror_mode": {
    "name": "ipython",
    "version": 3
   },
   "file_extension": ".py",
   "mimetype": "text/x-python",
   "name": "python",
   "nbconvert_exporter": "python",
   "pygments_lexer": "ipython3",
   "version": "3.7.4"
  }
 },
 "nbformat": 4,
 "nbformat_minor": 2
}
